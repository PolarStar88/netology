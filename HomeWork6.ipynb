{
 "cells": [
  {
   "cell_type": "markdown",
   "metadata": {},
   "source": [
    "# Домашнее задание к лекции \"Работа с файловой системой и модули\""
   ]
  },
  {
   "cell_type": "markdown",
   "metadata": {},
   "source": [
    "1. Переведите содержимое файла purchase_log.txt в словарь purchases вида:\n",
    "```python\n",
    "{'1840e0b9d4': 'Продукты', ...}\n",
    "```\n",
    "\n",
    "2. Для каждого user_id в файле visit_log.csv определите третий столбец с категорией покупки (если покупка была, сам файл visit_log.csv изменять не надо). Запишите в файл funnel.csv визиты из файла visit_log.csv, в которых были покупки с указанием категории.\n",
    "\n",
    "Учтите условия на данные:\n",
    "- содержимое purchase_log.txt помещается в оперативную память компьютера\n",
    "- содержимое visit_log.csv - нет; используйте только построчную обработку этого файла"
   ]
  },
  {
   "cell_type": "code",
   "execution_count": 1,
   "metadata": {},
   "outputs": [],
   "source": [
    "                                                # 1 #\n",
    "\n",
    "    \n",
    "import json                                                      # импортируем модуль json для декодировки данных\n",
    "purchases = {}                                                   # задаем пустой словарь, куда будем добавлять данные в нужном нам виде\n",
    "\n",
    "with open('purchase_log.txt', 'r', encoding='utf-8') as f:       # открываем файл purchase_log.txt для чтения, используя стандартное кодирование utf-8\n",
    "#     next(f)\n",
    "    f.readline()                                                 # читаем файл построчно\n",
    "    for line in f:                                               # проходимся циклом по каждой строке файлa\n",
    "        line = line.strip()                                      # удаляем перенос и лишние пробелы в строке\n",
    "        dict_ = json.loads(line)                                 # переводим строки в словари\n",
    "        purchases[dict_['user_id']] = dict_['category']          # добавляем в словарь purchases данные след.образом: ключ  -значение ключа user_id, значение - значение ключа category  "
   ]
  },
  {
   "cell_type": "code",
   "execution_count": 2,
   "metadata": {},
   "outputs": [
    {
     "name": "stdout",
     "output_type": "stream",
     "text": [
      "('1840e0b9d4', 'Продукты')\n",
      "('4e4f90fcfb', 'Электроника')\n",
      "('afea8d72fc', 'Электроника')\n",
      "('373a6055fe', 'Бытовая техника')\n",
      "('9b2ab046f3', 'Электроника')\n",
      "('9f39d307c3', 'Электроника')\n"
     ]
    }
   ],
   "source": [
    "# посмотрим на наш словарь\n",
    "i = 0\n",
    "for el in purchases.items():\n",
    "    print(el)\n",
    "    \n",
    "    i += 1\n",
    "    if i > 5:\n",
    "        break"
   ]
  },
  {
   "cell_type": "code",
   "execution_count": 3,
   "metadata": {},
   "outputs": [],
   "source": [
    "                                                  # 2 #\n",
    "\n",
    "with open('visit_log.csv', 'r') as f, open('funnel.csv', 'w') as f_w: # открываем файл visit_log.csv для чтения и файл funnel.csv для записи \n",
    "    f_w.write('user_id,source,category\\n')                            # записываем первую строку в funnel.csv след.вида: для каждого user_id в файле visit_log.csv определяем третий столбец с категорией покупки\n",
    "    \n",
    "    for line in f:                                                    # проходимся циклом по строкам файла visit_log.csv\n",
    "        line = line.strip().split(',')                                # удаляем перенос, лишние пробелы в строках и разделяем запятой, получаем список\n",
    "\n",
    "        if purchases.get(line[0]) != None:                            # проверяем user_id\n",
    "            line.append(purchases.get(line[0]))                       # если покупка была, добавляем в строки значение по ключу user_id из словаря purchases         \n",
    "            f_w.write(','.join(line) + '\\n')                          # записываем в файл funnel.csv визиты из файла visit_log.csv, в которых были покупки с указанием категории, из списка обратно в строку с помощью метода join"
   ]
  },
  {
   "cell_type": "code",
   "execution_count": 4,
   "metadata": {},
   "outputs": [
    {
     "name": "stdout",
     "output_type": "stream",
     "text": [
      "['user_id,source,category\\n',\n",
      " '1840e0b9d4,other,Продукты\\n',\n",
      " '4e4f90fcfb,context,Электроника\\n',\n",
      " 'afea8d72fc,other,Электроника\\n',\n",
      " '2824221f38,email,Продукты\\n',\n",
      " '373a6055fe,other,Бытовая техника\\n',\n",
      " '9b2ab046f3,other,Электроника\\n',\n",
      " '9f39d307c3,context,Электроника\\n',\n",
      " '44edeffc91,context,Продукты\\n',\n",
      " '704474fa2d,other,Продукты\\n']\n"
     ]
    }
   ],
   "source": [
    "# посмотрим на данные из файл funnel.csv\n",
    "\n",
    "from pprint import pprint                 # с помощью модуля pprint красиво отобразим данные из файла\n",
    "with open('funnel.csv', 'r') as f:\n",
    "    pprint([next(f) for x in range(10)])  # выведем список для первых 10 строк из файла без записи всего содержимого файла в оперативную память"
   ]
  }
 ],
 "metadata": {
  "kernelspec": {
   "display_name": "Python 3",
   "language": "python",
   "name": "python3"
  },
  "language_info": {
   "codemirror_mode": {
    "name": "ipython",
    "version": 3
   },
   "file_extension": ".py",
   "mimetype": "text/x-python",
   "name": "python",
   "nbconvert_exporter": "python",
   "pygments_lexer": "ipython3",
   "version": "3.8.3"
  }
 },
 "nbformat": 4,
 "nbformat_minor": 4
}
