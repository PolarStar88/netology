{
 "cells": [
  {
   "cell_type": "markdown",
   "metadata": {},
   "source": [
    "# Домашнее задание к лекции \"Исключения и обработка ошибок\""
   ]
  },
  {
   "cell_type": "markdown",
   "metadata": {},
   "source": [
    "## Задание 1\n",
    "\n",
    "Печатные газеты использовали свой формат дат для каждого выпуска. Для каждой газеты из списка напишите формат указанной даты для перевода в объект datetime:\n",
    "\n",
    "The Moscow Times - Wednesday, October 2, 2002\n",
    "\n",
    "The Guardian - Friday, 11.10.13\n",
    "\n",
    "Daily News - Thursday, 18 August 1977"
   ]
  },
  {
   "cell_type": "code",
   "execution_count": 7,
   "metadata": {},
   "outputs": [
    {
     "name": "stdout",
     "output_type": "stream",
     "text": [
      "The Moscow Times : 2002-10-02 00:00:00\n",
      "The Guardian : 2013-10-11 00:00:00\n",
      "Daily News : 1977-08-18 00:00:00\n"
     ]
    }
   ],
   "source": [
    "from datetime import datetime                                                                   # Из модуля datetime импортируем класс datetime\n",
    "\n",
    "print(f\"The Moscow Times : {datetime.strptime('Wednesday, October 2, 2002', '%A, %B %d, %Y')}\") # С помощью метода strptime() анализируем строку,\n",
    "print(f\"Daily News : {datetime.strptime('Thursday, 18 August 1977', '%A, %d %B %Y')}\")          # представляющую время в соответствии с форматом,\n",
    "print(f\"The Guardian : {datetime.strptime('Friday, 11.10.13', '%A, %d.%m.%y')}\")                # переводим в объект datetime и выводим на экран"
   ]
  },
  {
   "cell_type": "markdown",
   "metadata": {},
   "source": [
    "## Задание 2\n",
    "\n",
    "Дан поток дат в формате YYYY-MM-DD, в которых встречаются некорректные значения: stream = ['2018-04-02', '2018-02-29', '2018-19-02']\n",
    "\n",
    "Напишите функцию, которая проверяет эти даты на корректность. Т. е. для каждой даты возвращает True (дата корректна) или False (некорректная дата)."
   ]
  },
  {
   "cell_type": "code",
   "execution_count": 8,
   "metadata": {},
   "outputs": [
    {
     "name": "stdout",
     "output_type": "stream",
     "text": [
      "2018-04-02  TRUE \n",
      "2018-02-29  FALSE \n",
      "2018-19-02  FALSE \n"
     ]
    }
   ],
   "source": [
    "stream = ['2018-04-02', '2018-02-29', '2018-19-02']\n",
    "\n",
    "def correct_date():                             # Задаем функцию correct_date, которая будет проверять даты на корректность\n",
    "    for date in stream:                         # Проходимся циклом по датам списка stream\n",
    "        try:                                    # С помощью конструкции tru-except обрабатываем исключения:\n",
    "            datetime.strptime(date, '%Y-%m-%d') # если дата, переведенная в объект datetime, верного формата - TRUE, \n",
    "            print(date, ' TRUE ')\n",
    "        except:                                 # если нет - FALSE\n",
    "            print(date, ' FALSE ')\n",
    "correct_date()                                  # Применяем функцию"
   ]
  },
  {
   "cell_type": "markdown",
   "metadata": {},
   "source": [
    "## Задание 3\n",
    "\n",
    "Напишите функцию date_range, которая возвращает список дат за период от start_date до end_date. Даты должны вводиться в формате YYYY-MM-DD. В случае неверного формата или при start_date > end_date должен возвращаться пустой список."
   ]
  },
  {
   "cell_type": "code",
   "execution_count": 12,
   "metadata": {},
   "outputs": [
    {
     "name": "stdout",
     "output_type": "stream",
     "text": [
      "Введите дату начала в формате YYYY-MM-DD 2020-09-01\n",
      "Введите дату конца в формате YYYY-MM-DD 2020-10-01\n"
     ]
    },
    {
     "data": {
      "text/plain": [
       "['2020-09-01',\n",
       " '2020-09-02',\n",
       " '2020-09-03',\n",
       " '2020-09-04',\n",
       " '2020-09-05',\n",
       " '2020-09-06',\n",
       " '2020-09-07',\n",
       " '2020-09-08',\n",
       " '2020-09-09',\n",
       " '2020-09-10',\n",
       " '2020-09-11',\n",
       " '2020-09-12',\n",
       " '2020-09-13',\n",
       " '2020-09-14',\n",
       " '2020-09-15',\n",
       " '2020-09-16',\n",
       " '2020-09-17',\n",
       " '2020-09-18',\n",
       " '2020-09-19',\n",
       " '2020-09-20',\n",
       " '2020-09-21',\n",
       " '2020-09-22',\n",
       " '2020-09-23',\n",
       " '2020-09-24',\n",
       " '2020-09-25',\n",
       " '2020-09-26',\n",
       " '2020-09-27',\n",
       " '2020-09-28',\n",
       " '2020-09-29',\n",
       " '2020-09-30',\n",
       " '2020-10-01']"
      ]
     },
     "execution_count": 12,
     "metadata": {},
     "output_type": "execute_result"
    }
   ],
   "source": [
    "from datetime import timedelta                                  # Из модуля datetime импортируем класс timedelta\n",
    "\n",
    "def date_range(start_date, end_date):                           # Задаем функцию date_range, которая будет возвращать список дат за период от start_date до end_date\n",
    "    dates = []                                                  # Создаем пустой список, куда будем добавлять даты верного формата и удовлетворяющие условию start_date <= end_date \n",
    "    try:                                                        # С помощью конструкции tru-except обрабатываем исключения:\n",
    "        start_date = datetime.strptime(start_date, '%Y-%m-%d')   \n",
    "        end_date = datetime.strptime(end_date, '%Y-%m-%d')\n",
    "    except ValueError:                                          # если даты, переведенные в объект datetime, неверного формата\n",
    "        print('Неверный формат даты')                           # выводим предупреждение и возвращается пустой список\n",
    "    while start_date <= end_date:                               # с помощью цикла while устанавливаем условие\n",
    "        dates.append(datetime.strftime(start_date, '%Y-%m-%d')) # пока формат даты верный и выполняется условие start_date <= end_date, добавляем дату, переведенную с помощью метода strftime() обратно в строку, в список dates \n",
    "        start_date += timedelta(days=1)                         # и увеличиваем дату на 1 день\n",
    "    return dates                                                # как только одно из условий перестает выполняться, возвращаем список\n",
    "\n",
    "start_date = input('Введите дату начала в формате YYYY-MM-DD ') # Для удобства проверки введем пользовательский ввод дат\n",
    "end_date = input('Введите дату конца в формате YYYY-MM-DD ')\n",
    "\n",
    "date_range(start_date, end_date)                                # Применяем функцию"
   ]
  },
  {
   "cell_type": "markdown",
   "metadata": {},
   "source": [
    "## Задание 4\n",
    "\n",
    "Ваш коллега прислал код функции:\n",
    "\n",
    "DEFAULT_USER_COUNT = 3\n",
    "\n",
    "def delete_and_return_last_user(region, default_list=[‘A100’, ‘A101’, ‘A102’]):\n",
    "\"\"“\n",
    "Удаляет из списка default_list последнего пользователя\n",
    "и возвращает ID нового последнего пользователя.\n",
    "”\"\"\n",
    "element_to_delete = default_list[-1]\n",
    "default_list.remove(element_to_delete)\n",
    "\n",
    "return default_list[DEFAULT_USER_COUNT-2]\n",
    "При однократном вызове этой функции все работает корректно:\n",
    "delete_and_return_last_user(1)\n",
    "‘A101’\n",
    "\n",
    "Однако, при повторном вызове получается ошибка IndexError: list index out of range."
   ]
  },
  {
   "cell_type": "markdown",
   "metadata": {},
   "source": [
    "## Задание:\n",
    "\n",
    "- Что значит ошибка list index out of range?\n",
    "- Почему при первом запуске функция работает корректно, а при втором - нет?"
   ]
  },
  {
   "cell_type": "code",
   "execution_count": 42,
   "metadata": {},
   "outputs": [],
   "source": [
    "DEFAULT_USER_COUNT = 3\n",
    "def delete_and_return_last_user(region, default_list=['A100', 'A101', 'A102']):\n",
    "    \"\"\"\n",
    "    Удаляет из списка default_list последнего пользователя\n",
    "    и возвращает ID нового последнего пользователя.\n",
    "    \"\"\"\n",
    "    element_to_delete = default_list[-1]\n",
    "    print(element_to_delete)\n",
    "    default_list.remove(element_to_delete)\n",
    "    print(default_list)\n",
    "    return default_list[DEFAULT_USER_COUNT-2]"
   ]
  },
  {
   "cell_type": "code",
   "execution_count": 43,
   "metadata": {},
   "outputs": [
    {
     "name": "stdout",
     "output_type": "stream",
     "text": [
      "A102\n",
      "['A100', 'A101']\n",
      "A101\n"
     ]
    }
   ],
   "source": [
    "print(delete_and_return_last_user(1))"
   ]
  },
  {
   "cell_type": "code",
   "execution_count": 44,
   "metadata": {},
   "outputs": [
    {
     "name": "stdout",
     "output_type": "stream",
     "text": [
      "A101\n",
      "['A100']\n"
     ]
    },
    {
     "ename": "IndexError",
     "evalue": "list index out of range",
     "output_type": "error",
     "traceback": [
      "\u001b[1;31m---------------------------------------------------------------------------\u001b[0m",
      "\u001b[1;31mIndexError\u001b[0m                                Traceback (most recent call last)",
      "\u001b[1;32m<ipython-input-44-a749cb658de1>\u001b[0m in \u001b[0;36m<module>\u001b[1;34m\u001b[0m\n\u001b[1;32m----> 1\u001b[1;33m \u001b[0mprint\u001b[0m\u001b[1;33m(\u001b[0m\u001b[0mdelete_and_return_last_user\u001b[0m\u001b[1;33m(\u001b[0m\u001b[1;36m2\u001b[0m\u001b[1;33m)\u001b[0m\u001b[1;33m)\u001b[0m\u001b[1;33m\u001b[0m\u001b[1;33m\u001b[0m\u001b[0m\n\u001b[0m",
      "\u001b[1;32m<ipython-input-42-19a180237709>\u001b[0m in \u001b[0;36mdelete_and_return_last_user\u001b[1;34m(region, default_list)\u001b[0m\n\u001b[0;32m      9\u001b[0m     \u001b[0mdefault_list\u001b[0m\u001b[1;33m.\u001b[0m\u001b[0mremove\u001b[0m\u001b[1;33m(\u001b[0m\u001b[0melement_to_delete\u001b[0m\u001b[1;33m)\u001b[0m\u001b[1;33m\u001b[0m\u001b[1;33m\u001b[0m\u001b[0m\n\u001b[0;32m     10\u001b[0m     \u001b[0mprint\u001b[0m\u001b[1;33m(\u001b[0m\u001b[0mdefault_list\u001b[0m\u001b[1;33m)\u001b[0m\u001b[1;33m\u001b[0m\u001b[1;33m\u001b[0m\u001b[0m\n\u001b[1;32m---> 11\u001b[1;33m     \u001b[1;32mreturn\u001b[0m \u001b[0mdefault_list\u001b[0m\u001b[1;33m[\u001b[0m\u001b[0mDEFAULT_USER_COUNT\u001b[0m\u001b[1;33m-\u001b[0m\u001b[1;36m2\u001b[0m\u001b[1;33m]\u001b[0m\u001b[1;33m\u001b[0m\u001b[1;33m\u001b[0m\u001b[0m\n\u001b[0m",
      "\u001b[1;31mIndexError\u001b[0m: list index out of range"
     ]
    }
   ],
   "source": [
    "print(delete_and_return_last_user(2))"
   ]
  },
  {
   "cell_type": "markdown",
   "metadata": {},
   "source": [
    "- Ошибка list index out of range означает, что функция при повторном запуске обращается к несуществующему индексу;\n",
    "- при первом запуске функции переменная default_list возвращается как список из 2 элементов, при повторном - список из однго элемента с индексом 0, нет элемента с индексом 1, к которому функция пытается обратиться (DEFAULT_USER_COUNT-2, при DEFAULT_USER_COUNT = 3)."
   ]
  }
 ],
 "metadata": {
  "kernelspec": {
   "display_name": "Python 3",
   "language": "python",
   "name": "python3"
  },
  "language_info": {
   "codemirror_mode": {
    "name": "ipython",
    "version": 3
   },
   "file_extension": ".py",
   "mimetype": "text/x-python",
   "name": "python",
   "nbconvert_exporter": "python",
   "pygments_lexer": "ipython3",
   "version": "3.8.3"
  }
 },
 "nbformat": 4,
 "nbformat_minor": 4
}
