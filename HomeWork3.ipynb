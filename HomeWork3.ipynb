{
 "cells": [
  {
   "cell_type": "markdown",
   "metadata": {},
   "source": [
    "# Домашнее задание «Управляющие конструкции и коллекции» часть 1"
   ]
  },
  {
   "cell_type": "markdown",
   "metadata": {},
   "source": [
    "### Задание 1"
   ]
  },
  {
   "cell_type": "markdown",
   "metadata": {},
   "source": [
    "Дана переменная, в которой хранится слово из латинских букв. Напишите код, который выводит на экран:\n",
    "\n",
    "- среднюю букву, если число букв в слове нечетное;\n",
    "- две средних буквы, если число букв четное."
   ]
  },
  {
   "cell_type": "code",
   "execution_count": 25,
   "metadata": {},
   "outputs": [
    {
     "name": "stdout",
     "output_type": "stream",
     "text": [
      "Введите слово из латинских букв: future\n",
      "tu\n"
     ]
    }
   ],
   "source": [
    "word = input('Введите слово из латинских букв: ')\n",
    "if len(word) % 2 != 0:               \n",
    "    print(word[int(len(word) / 2)])\n",
    "elif len(word) % 2 == 0:\n",
    "    print(word[int(len(word) / 2) - 1 : int(len(word) / 2) + 1])"
   ]
  },
  {
   "cell_type": "markdown",
   "metadata": {},
   "source": [
    "### Задание 2"
   ]
  },
  {
   "cell_type": "markdown",
   "metadata": {},
   "source": [
    "Напишите программу, которая последовательно запрашивает у пользователя числа (по одному за раз) и после первого нуля выводит сумму всех ранее введенных чисел."
   ]
  },
  {
   "cell_type": "code",
   "execution_count": 26,
   "metadata": {},
   "outputs": [
    {
     "name": "stdout",
     "output_type": "stream",
     "text": [
      "Введите число: 1\n",
      "Введите число: 6\n",
      "Введите число: 4\n",
      "Введите число: 3\n",
      "Введите число: 0\n",
      "сумма всех ранее введенных чисел =  14\n"
     ]
    }
   ],
   "source": [
    "x = int(input('Введите число: '))\n",
    "sum = 0\n",
    "\n",
    "while x != 0:\n",
    "    sum += x\n",
    "    x = int(input('Введите число: '))\n",
    "print('сумма всех ранее введенных чисел = ', sum)"
   ]
  },
  {
   "cell_type": "markdown",
   "metadata": {},
   "source": [
    "### Задание 3"
   ]
  },
  {
   "cell_type": "markdown",
   "metadata": {},
   "source": [
    "Мы делаем MVP dating-сервиса, и у нас есть список парней и девушек.\n",
    "Выдвигаем гипотезу: лучшие рекомендации мы получим, если просто отсортируем имена по алфавиту и познакомим людей с одинаковыми индексами после сортировки! Но мы не будем никого знакомить, если кто-то может остаться без пары."
   ]
  },
  {
   "cell_type": "code",
   "execution_count": 27,
   "metadata": {},
   "outputs": [
    {
     "name": "stdout",
     "output_type": "stream",
     "text": [
      "ВНИМАНИЕ! Кто-то может остаться без пары!\n"
     ]
    }
   ],
   "source": [
    "#boys = ['Peter', 'Alex', 'John', 'Arthur', 'Richard']\n",
    "#girls = ['Kate', 'Liza', 'Kira', 'Emma', 'Trisha']\n",
    "\n",
    "boys = ['Peter', 'Alex', 'John', 'Arthur', 'Richard', 'Michael']\n",
    "girls = ['Kate', 'Liza', 'Kira', 'Emma', 'Trisha']\n",
    "\n",
    "if len(boys)==len(girls):\n",
    "    for names_b, names_g in zip(sorted(boys), sorted(girls)):\n",
    "        print(f'Идеальная пара: {names_b} и {names_g}')\n",
    "else:\n",
    "    print('ВНИМАНИЕ! Кто-то может остаться без пары!')"
   ]
  },
  {
   "cell_type": "markdown",
   "metadata": {},
   "source": [
    "### Задание 4"
   ]
  },
  {
   "cell_type": "markdown",
   "metadata": {},
   "source": [
    "У нас есть список, содержащий информацию о среднедневной температуре в Фаренгейтах за произвольный период по странам (структура данных в примере). Необходимо написать код, который рассчитает среднюю температуру за период в Цельсиях(!) для каждой страны."
   ]
  },
  {
   "cell_type": "code",
   "execution_count": 1,
   "metadata": {},
   "outputs": [
    {
     "name": "stdout",
     "output_type": "stream",
     "text": [
      "Thailand - 23.9\n",
      "Germany - 13.8\n",
      "Russia - 3.7\n",
      "Poland - 12.0\n"
     ]
    }
   ],
   "source": [
    "countries_temperature = [\n",
    "['Thailand', [75.2, 77, 78.8, 73.4, 68, 75.2, 77]],\n",
    "['Germany', [57.2, 55.4, 59, 59, 53.6]],\n",
    "['Russia', [35.6, 37.4, 39.2, 41, 42.8, 39.2, 35.6]],\n",
    "['Poland', [50, 50, 53.6, 57.2, 55.4, 55.4]]\n",
    "]\n",
    "\n",
    "for el in countries_temperature:\n",
    "    print(f'{el[0]} - {round((5.0/9 * (sum(el[1])/len(el[1]) - 32)), 1)}')"
   ]
  },
  {
   "cell_type": "markdown",
   "metadata": {},
   "source": [
    "### Задание 5"
   ]
  },
  {
   "cell_type": "markdown",
   "metadata": {},
   "source": [
    "Дан поток логов по количеству просмотренных страниц для каждого пользователя. Вам необходимо написать алгоритм, который считает среднее значение просмотров на пользователя. Т. е. надо посчитать отношение суммы всех просмотров к количеству уникальных пользователей."
   ]
  },
  {
   "cell_type": "code",
   "execution_count": 28,
   "metadata": {},
   "outputs": [
    {
     "name": "stdout",
     "output_type": "stream",
     "text": [
      "Среднее количество просмотров на уникального пользователя: 145.33\n"
     ]
    }
   ],
   "source": [
    "#stream = [\n",
    "#'2018-01-01,user1,3',\n",
    "#'2018-01-07,user1,4',\n",
    "#'2018-03-29,user1,1',\n",
    "#'2018-04-04,user1,13',\n",
    "#'2018-01-05,user2,7',\n",
    "#'2018-06-14,user3,4',\n",
    "#'2018-07-02,user3,10',\n",
    "#'2018-03-21,user4,19',\n",
    "#'2018-03-22,user4,4',\n",
    "#'2018-04-22,user4,8',\n",
    "#'2018-05-03,user4,9',\n",
    "#'2018-05-11,user4,11',\n",
    "#]\n",
    "\n",
    "stream = [\n",
    "'2018-01-01,user100,150',\n",
    "'2018-01-07,user99,205',\n",
    "'2018-03-29,user1001,81'\n",
    "]\n",
    "\n",
    "a = [s.split(',') for s in stream ] # получим новый список, в котором элементами являются списки\n",
    "s = 0                               # сумма элементов списка\n",
    "res = []                            # пустой список, в который будем добавлять уникальные элементы (user, индекс элемента 1)\n",
    "for el in a:                        # цикл для подсчета суммы элементов с индексом 2 (количество просмотров)\n",
    "    s += int(el[2])\n",
    "    if el[1] not in res:            # условие добавления элемента в новый список (элемент добавляется, если его нет в новом списке)\n",
    "        res.append(el[1])\n",
    "\n",
    "print('Среднее количество просмотров на уникального пользователя:', round(s/len(res), 2))"
   ]
  },
  {
   "cell_type": "markdown",
   "metadata": {},
   "source": [
    "### Задание 6"
   ]
  },
  {
   "cell_type": "markdown",
   "metadata": {},
   "source": [
    "Необходимо у пользователя запрашивать набор чисел разделенных пробелом. В результате должны выводиться числа, которые повторяются в вводе более одного раза."
   ]
  },
  {
   "cell_type": "code",
   "execution_count": 29,
   "metadata": {},
   "outputs": [
    {
     "name": "stdout",
     "output_type": "stream",
     "text": [
      "Введите набор чисел, разделенных пробелом: 1 7 3 8 7 3\n",
      "Повторяющиеся числа в наборе:  ['7', '3']\n"
     ]
    }
   ],
   "source": [
    "x = input('Введите набор чисел, разделенных пробелом: ').split(' ')\n",
    "\n",
    "res = []\n",
    "for el in x:\n",
    "    if x.count(el) > 1 and el not in res:\n",
    "        res.append(el)\n",
    "print('Повторяющиеся числа в наборе: ', res)"
   ]
  }
 ],
 "metadata": {
  "kernelspec": {
   "display_name": "Python 3",
   "language": "python",
   "name": "python3"
  },
  "language_info": {
   "codemirror_mode": {
    "name": "ipython",
    "version": 3
   },
   "file_extension": ".py",
   "mimetype": "text/x-python",
   "name": "python",
   "nbconvert_exporter": "python",
   "pygments_lexer": "ipython3",
   "version": "3.8.3"
  }
 },
 "nbformat": 4,
 "nbformat_minor": 4
}
