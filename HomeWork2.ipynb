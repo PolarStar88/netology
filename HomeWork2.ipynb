{
 "cells": [
  {
   "cell_type": "markdown",
   "metadata": {},
   "source": [
    "# Домашнее задание к лекции \"Основы Python\""
   ]
  },
  {
   "cell_type": "markdown",
   "metadata": {},
   "source": [
    "## Задание 1"
   ]
  },
  {
   "cell_type": "markdown",
   "metadata": {},
   "source": [
    "Даны 2 переменных, в которых хранятся строки произвольной длины: *phrase_1* и *phrase_2*.  \n",
    "Напишите код, который проверяет какая из этих строк длиннее."
   ]
  },
  {
   "cell_type": "code",
   "execution_count": 6,
   "metadata": {},
   "outputs": [
    {
     "name": "stdout",
     "output_type": "stream",
     "text": [
      "Фраза 1 длиннее фразы 2\n"
     ]
    }
   ],
   "source": [
    "phrase_1 = 'Насколько проще было бы писать программы, если бы не заказчики'\n",
    "phrase_2 = '640Кб должно хватить для любых задач. Билл Гейтс (по легенде)'\n",
    "\n",
    "if len(phrase_1) > len(phrase_2):\n",
    "    print('Фраза 1 длиннее фразы 2')\n",
    "elif len(phrase_1) < len(phrase_2):\n",
    "    print('Фраза 2 длиннее фразы 1')\n",
    "else: print('Фразы равной длины')"
   ]
  },
  {
   "cell_type": "markdown",
   "metadata": {},
   "source": [
    "## Задание 2"
   ]
  },
  {
   "cell_type": "markdown",
   "metadata": {},
   "source": [
    "Дана переменная, в которой хранится четырехзначное число (год). Необходимо написать программу, которая выведет, является ли данный год високосным или обычным."
   ]
  },
  {
   "cell_type": "code",
   "execution_count": 7,
   "metadata": {},
   "outputs": [
    {
     "name": "stdout",
     "output_type": "stream",
     "text": [
      "Високосный год\n"
     ]
    }
   ],
   "source": [
    "year = 2056\n",
    "\n",
    "if year%4 and year/100 and year%400:\n",
    "    print('Обычный год')\n",
    "else: print('Високосный год')"
   ]
  },
  {
   "cell_type": "markdown",
   "metadata": {},
   "source": [
    "## Задание 3"
   ]
  },
  {
   "cell_type": "markdown",
   "metadata": {},
   "source": [
    "Необходимо написать программу, которая будет запрашивать у пользователя месяц и дату рождения и выводить соответствующий знак зодиака."
   ]
  },
  {
   "cell_type": "code",
   "execution_count": 4,
   "metadata": {},
   "outputs": [
    {
     "name": "stdout",
     "output_type": "stream",
     "text": [
      "введите день: 54\n",
      "введите месяц: апрель\n",
      "неверная дата или месяц\n"
     ]
    }
   ],
   "source": [
    "day = int(input('введите день: '))\n",
    "month = input ('введите месяц: ')\n",
    "\n",
    "if (month == 'январь' and 20 <= day <= 31) or (month == 'февраль' and day <= 18):\n",
    "    print ('Ваш знак зодиака: Водолей')\n",
    "elif (month == 'февраль' and 19 <= day <= 29) or (month == 'март' and day <= 20):\n",
    "    print ('Ваш знак зодиака: Рыбы')\n",
    "elif (month == 'март' and 21 <= day <= 31) or (month == 'апрель' and day <= 19):\n",
    "    print ('Ваш знак зодиака: Овен')\n",
    "elif (month == 'апрель' and 20 <= day <= 30) or (month == 'май' and day <= 20):\n",
    "    print ('Ваш знак зодиака: Телец')\n",
    "elif (month == 'май' and 21 <= day <= 31) or (month == 'июнь' and day <= 21):\n",
    "    print ('Ваш знак зодиака: Близнецы')\n",
    "elif (month == 'июнь' and 22 <= day <= 30) or (month == 'июль' and day <= 22):\n",
    "    print ('Ваш знак зодиака: Рак')\n",
    "elif (month == 'июль' and 23 <= day <= 31) or (month == 'август' and day <= 22):\n",
    "    print ('Ваш знак зодиака: Лев')\n",
    "elif (month == 'авугст' and 23 <= day <= 31) or (month == 'сентябрь' and day <= 22):\n",
    "    print ('Ваш знак зодиака: Дева')\n",
    "elif (month == 'сентябрь' and 23 <= day <= 30) or (month == 'октябрь' and day <= 22):\n",
    "    print ('Ваш знак зодиака: Весы')\n",
    "elif (month == 'октябрь' and 23 <= day <= 31) or (month == 'ноябрь' and day <= 21):\n",
    "    print ('Ваш знак зодиака: Скорпион')\n",
    "elif (month == 'ноябрь' and 22 <= day <= 30) or (month == 'декабрь' and day <= 21):\n",
    "    print ('Ваш знак зодиака: Стрелец')\n",
    "elif (month == 'декабрь' and 22 <= day >= 31) or (month == 'январь' and day <= 19):\n",
    "    print ('Ваш знак зодиака: Козерог')\n",
    "else: print('неверная дата или месяц')"
   ]
  },
  {
   "cell_type": "markdown",
   "metadata": {},
   "source": [
    "## Задание 4"
   ]
  },
  {
   "cell_type": "markdown",
   "metadata": {},
   "source": [
    "Вам нужно написать программу для подбора упаковок по размерам товара. Размеры хранятся в переменных (в сантиметрах)."
   ]
  },
  {
   "cell_type": "code",
   "execution_count": 9,
   "metadata": {},
   "outputs": [
    {
     "name": "stdout",
     "output_type": "stream",
     "text": [
      "Упаковка для лыж\n"
     ]
    }
   ],
   "source": [
    "width = 10\n",
    "length = 300\n",
    "height = 5\n",
    "\n",
    "if width < 15 and length < 15 and height < 15:\n",
    "    print('Коробка №1')\n",
    "elif 15 < width < 50 or 15 < length < 50 or 15 < height < 50:\n",
    "    print('Коробка №2')\n",
    "elif length > 200:\n",
    "    print('Упаковка для лыж')\n",
    "else: print('Стандартная коробка №3')"
   ]
  },
  {
   "cell_type": "markdown",
   "metadata": {},
   "source": [
    "## Задание 5"
   ]
  },
  {
   "cell_type": "markdown",
   "metadata": {},
   "source": [
    "Дана переменная, в которой хранится шестизначное число (номер проездного билета). Напишите программу, которая будет определять, является ли данный билет \"счастливым\". Билет считается счастливым, если сумма первых трех цифр совпадает с суммой последних трех цифр номера.  "
   ]
  },
  {
   "cell_type": "code",
   "execution_count": 10,
   "metadata": {},
   "outputs": [
    {
     "name": "stdout",
     "output_type": "stream",
     "text": [
      "Номер проездного билета: 765900\n",
      "Несчастливый билет\n"
     ]
    }
   ],
   "source": [
    "n = int(input('Номер проездного билета: '))\n",
    "\n",
    "n_1 = n//100000\n",
    "n_2 = (n%100000)//10000\n",
    "n_3 = (n%10000)//1000\n",
    "n_4 = (n%1000)//100\n",
    "n_5 = (n%100)//10\n",
    "n_6 = n%10\n",
    "\n",
    "if n_1 + n_2 + n_3 == n_4 + n_5 + n_6:\n",
    "    print('Счастливый билет')\n",
    "else: print('Несчастливый билет')"
   ]
  },
  {
   "cell_type": "markdown",
   "metadata": {},
   "source": [
    "## Задание 6"
   ]
  },
  {
   "cell_type": "markdown",
   "metadata": {},
   "source": [
    "Напишите программу, которая сможет вычислять площади трех фигур (круг, треугольник и прямоугольник).\n",
    "Тип фигуры запрашиваем через пользовательский ввод, после чего делаем запрос характеристик фигуры:\n",
    "\n",
    "- если пользователь выбрал круг, запрашиваем его радиус,\n",
    "- если треугольник – длины трех его сторон;\n",
    "- если прямоугольник – длины двух его сторон."
   ]
  },
  {
   "cell_type": "code",
   "execution_count": 11,
   "metadata": {},
   "outputs": [
    {
     "name": "stdout",
     "output_type": "stream",
     "text": [
      "Введите тип фигуры: прямоугольник\n",
      "Введите длины сторон прямоугольника: \n",
      "a = 25\n",
      "b = 50\n",
      "Площадь прямоугольника =  1250.0\n"
     ]
    }
   ],
   "source": [
    "f = input('Введите тип фигуры: ')\n",
    "\n",
    "if f == 'круг':\n",
    "    r = float(input('Введите радиус круга R = '))\n",
    "    from math import pi\n",
    "    s = pi * r ** 2\n",
    "    print('Площадь круга = ', s)\n",
    "elif f == 'треугольник':\n",
    "    print('Введите длины сторон треугольника: ')\n",
    "    a = float(input(\"a = \"))\n",
    "    b = float(input(\"b = \"))\n",
    "    c = float(input(\"c = \"))\n",
    "    p = (a + b + c) / 2\n",
    "    from math import sqrt\n",
    "    s = sqrt(p * (p - a) * (p - b) * (p - c))\n",
    "    print('Площадь треугольника = ', s)\n",
    "elif f == 'прямоугольник':\n",
    "    print('Введите длины сторон прямоугольника: ')\n",
    "    a = float(input(\"a = \"))\n",
    "    b = float(input(\"b = \"))\n",
    "    s = a * b\n",
    "    print('Площадь прямоугольника = ', s)\n",
    "else: print('Ошибка ввода')"
   ]
  }
 ],
 "metadata": {
  "kernelspec": {
   "display_name": "Python 3",
   "language": "python",
   "name": "python3"
  },
  "language_info": {
   "codemirror_mode": {
    "name": "ipython",
    "version": 3
   },
   "file_extension": ".py",
   "mimetype": "text/x-python",
   "name": "python",
   "nbconvert_exporter": "python",
   "pygments_lexer": "ipython3",
   "version": "3.8.3"
  }
 },
 "nbformat": 4,
 "nbformat_minor": 4
}
