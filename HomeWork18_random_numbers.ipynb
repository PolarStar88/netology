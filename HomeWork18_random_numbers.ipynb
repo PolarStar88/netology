{
 "cells": [
  {
   "cell_type": "markdown",
   "metadata": {},
   "source": [
    "# Домашнее задание к лекции \"Случайные события. Случайные величины.\""
   ]
  },
  {
   "cell_type": "markdown",
   "metadata": {},
   "source": [
    "Смоделировать игру против лотерейного автомата типа \"777\". Игрок платит 1 руб., после чего выпадает случайное целое число, равномерно распределенное от 0 до 999. При некоторых значениях числа игрок получает выигрыш.\n",
    "\n",
    "●Выгодна ли игра игроку?\n",
    "\n",
    "●Сколько в среднем приобретает или теряет игрок за одну игру?\n",
    "\n",
    "                                                                777: 200 руб.\n",
    "\n",
    "                                                                999: 100 руб.\n",
    "\n",
    "                                                                555: 50 руб.\n",
    "\n",
    "                                                                333: 15 руб.\n",
    "\n",
    "                                                                111: 10 руб.\n",
    "\n",
    "                                                                *77: 5 руб.\n",
    "\n",
    "                                                                **7: 3 руб.\n",
    "\n",
    "                                                                *00: 2 руб.\n",
    "\n",
    "                                                                **0: 1 руб.\n",
    "                                                                \n",
    "                                                                (* – любая цифра)"
   ]
  },
  {
   "cell_type": "code",
   "execution_count": 1,
   "metadata": {},
   "outputs": [],
   "source": [
    "import numpy as np"
   ]
  },
  {
   "cell_type": "markdown",
   "metadata": {},
   "source": [
    "                                        1 вариант решения"
   ]
  },
  {
   "cell_type": "code",
   "execution_count": 2,
   "metadata": {},
   "outputs": [
    {
     "name": "stdout",
     "output_type": "stream",
     "text": [
      "Количество успехов 198499 из 1000000\n",
      "Вероятность выигрыша по Методу Монте-Карло: 20.0 %\n",
      "Игрок выиграл 423718 руб., потратил 1000000 руб., прибыль (-576282) руб.\n",
      "В среднем за одну игру игрок приобретает (-0.576282) руб.\n"
     ]
    }
   ],
   "source": [
    "# Количество попыток\n",
    "trials = 1000000\n",
    "\n",
    "# Количество успехов (накручиваем счетчик)\n",
    "successes = 0\n",
    "\n",
    "# Количество ставок (сколько денег игрок заплатил)\n",
    "rate = 0\n",
    "\n",
    "# Сумма выигрыша\n",
    "jackpot = 0\n",
    "\n",
    "for i in range(trials):           # проходимся циклом по возможным попыткам и при каждой новой ставке накручиваем счетчик ставок\n",
    "    rate += 1\n",
    "    \n",
    "    x = np.random.randint(0, 10)  # генерим состав трехзначного числа от 0 до 9\n",
    "    y = np.random.randint(0, 10)\n",
    "    z = np.random.randint(0, 10)\n",
    "    \n",
    "    number = [x,y,z]\n",
    "    \n",
    "    if number == 777:\n",
    "        successes += 1\n",
    "        jackpot += 200\n",
    "    elif number == 999:\n",
    "        successes += 1\n",
    "        jackpot += 100\n",
    "    elif number == 555:\n",
    "        successes += 1\n",
    "        jackpot += 50\n",
    "    elif number == 333:\n",
    "        successes += 1\n",
    "        jackpot += 15\n",
    "    elif number == 111:\n",
    "        successes += 1\n",
    "        jackpot += 10\n",
    "    elif (x != 7) and (y == 7) and (z == 7):\n",
    "        successes += 1\n",
    "        jackpot += 5\n",
    "    elif ((x != 7) or (y != 7)) and (z == 7):\n",
    "        successes += 1\n",
    "        jackpot += 3\n",
    "    elif y == 0 and z == 0:\n",
    "        successes += 1\n",
    "        jackpot += 2\n",
    "    elif z == 0:\n",
    "        successes += 1\n",
    "        jackpot += 1\n",
    "\n",
    "print(f'Количество успехов {successes} из {trials}')\n",
    "print(f'Вероятность выигрыша по Методу Монте-Карло: {round((successes / trials)*100,0)} %')\n",
    "print(f'Игрок выиграл {jackpot} руб., потратил {rate} руб., прибыль ({jackpot -  rate}) руб.')\n",
    "print(f'В среднем за одну игру игрок приобретает ({(jackpot -  rate) / trials}) руб.')"
   ]
  },
  {
   "cell_type": "markdown",
   "metadata": {},
   "source": [
    "                                        2 вариант решения"
   ]
  },
  {
   "cell_type": "code",
   "execution_count": 4,
   "metadata": {},
   "outputs": [
    {
     "name": "stdout",
     "output_type": "stream",
     "text": [
      "Количество успехов 204416 из 1000000\n",
      "Вероятность выигрыша по Методу Монте-Карло: 20.0 %\n",
      "Игрок выиграл 807404 руб., потратил 1000000 руб., прибыль (-192596) руб.\n",
      "В среднем за одну игру игрок приобретает (-0.192596) руб.\n"
     ]
    }
   ],
   "source": [
    "# Количество попыток\n",
    "trials = 1000000\n",
    "\n",
    "# Количество успехов (накручиваем счетчик)\n",
    "successes = 0\n",
    "\n",
    "# Количество ставок, сколько денег игрок заплатил\n",
    "rate = 0\n",
    "\n",
    "# Сумма выигрыша\n",
    "jackpot = 0\n",
    "\n",
    "for i in range(trials):\n",
    "    rate += 1\n",
    "    number = np.random.randint(0, 1000)  # генерим трехзначное число от 0 до 999\n",
    "    \n",
    "    if number == 777:\n",
    "        successes += 1\n",
    "        jackpot += 200\n",
    "    elif number == 999:\n",
    "        successes += 1\n",
    "        jackpot += 100\n",
    "    elif number == 555:\n",
    "        successes += 1\n",
    "        jackpot += 50\n",
    "    elif number == 333:\n",
    "        successes += 1\n",
    "        jackpot += 15\n",
    "    elif number == 111:\n",
    "        successes += 1\n",
    "        jackpot += 10\n",
    "    elif number%100 == 77: # остаток от деления на 100 (*77)\n",
    "        successes += 1\n",
    "        jackpot += 5\n",
    "    elif number%10 == 7:   # остаток от деления на 10 (**7)\n",
    "        successes += 1\n",
    "        jackpot += 3\n",
    "    elif number%100 == 0:  # число нацело делится на 100 (*00)\n",
    "        successes += 1\n",
    "        jackpot += 2\n",
    "    elif number%10 == 0:   # число нацело делится на 10 (**0)\n",
    "        successes += 1\n",
    "        jackpot += 1\n",
    "\n",
    "print(f'Количество успехов {successes} из {trials}')\n",
    "print(f'Вероятность выигрыша по Методу Монте-Карло: {round((successes / trials)*100,0)} %')\n",
    "print(f'Игрок выиграл {jackpot} руб., потратил {rate} руб., прибыль ({jackpot -  rate}) руб.')\n",
    "print(f'В среднем за одну игру игрок приобретает ({(jackpot -  rate) / trials}) руб.')"
   ]
  }
 ],
 "metadata": {
  "kernelspec": {
   "display_name": "Python 3",
   "language": "python",
   "name": "python3"
  },
  "language_info": {
   "codemirror_mode": {
    "name": "ipython",
    "version": 3
   },
   "file_extension": ".py",
   "mimetype": "text/x-python",
   "name": "python",
   "nbconvert_exporter": "python",
   "pygments_lexer": "ipython3",
   "version": "3.8.3"
  }
 },
 "nbformat": 4,
 "nbformat_minor": 4
}
