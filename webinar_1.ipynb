{
 "cells": [
  {
   "cell_type": "code",
   "execution_count": null,
   "metadata": {},
   "outputs": [],
   "source": [
    "# сокращенная запись операций с присвоением\n",
    "x = 7.0\n",
    "x += 1\n",
    "x"
   ]
  },
  {
   "cell_type": "code",
   "execution_count": null,
   "metadata": {},
   "outputs": [],
   "source": [
    "x -= 5\n",
    "x"
   ]
  },
  {
   "cell_type": "code",
   "execution_count": null,
   "metadata": {},
   "outputs": [],
   "source": [
    "x *= 2\n",
    "x"
   ]
  },
  {
   "cell_type": "code",
   "execution_count": null,
   "metadata": {},
   "outputs": [],
   "source": [
    "x /= -1\n",
    "x"
   ]
  },
  {
   "cell_type": "code",
   "execution_count": null,
   "metadata": {},
   "outputs": [],
   "source": [
    "str_ = 'my name'\n",
    "\n",
    "str_ += ' Oleg'\n",
    "str_"
   ]
  },
  {
   "cell_type": "code",
   "execution_count": 10,
   "metadata": {},
   "outputs": [
    {
     "name": "stdout",
     "output_type": "stream",
     "text": [
      "odd\n"
     ]
    }
   ],
   "source": [
    "# если у вас в блоке if и в блоке else есть только по одной операции, \n",
    "# то такое условие можно записать в одну строку\n",
    "\n",
    "num = 5\n",
    "if num % 2 == 0:\n",
    "    print('even')\n",
    "else:\n",
    "    print('odd')"
   ]
  },
  {
   "cell_type": "code",
   "execution_count": 14,
   "metadata": {},
   "outputs": [
    {
     "name": "stdout",
     "output_type": "stream",
     "text": [
      "odd\n"
     ]
    }
   ],
   "source": [
    "num_2 = 6\n",
    "num = 7\n",
    "print('even') if (num % 2 == 0) and (num_2 % 2 ==0) else print('odd')"
   ]
  },
  {
   "cell_type": "code",
   "execution_count": 23,
   "metadata": {},
   "outputs": [
    {
     "name": "stdout",
     "output_type": "stream",
     "text": [
      "Призывник\n"
     ]
    }
   ],
   "source": [
    "age = 20\n",
    "study = False\n",
    "\n",
    "if (age < 18) or study:\n",
    "    print('Отсрочка')\n",
    "else:\n",
    "    print('Призывник')"
   ]
  },
  {
   "cell_type": "code",
   "execution_count": 28,
   "metadata": {},
   "outputs": [],
   "source": [
    "some_string_1 = 'He said: \"Hello World\"'\n",
    "some_string_2 = 'He said: \"Hello World\"'"
   ]
  },
  {
   "cell_type": "code",
   "execution_count": 29,
   "metadata": {},
   "outputs": [
    {
     "data": {
      "text/plain": [
       "'He said: \"Hello World\"'"
      ]
     },
     "execution_count": 29,
     "metadata": {},
     "output_type": "execute_result"
    }
   ],
   "source": [
    "some_string_1"
   ]
  },
  {
   "cell_type": "markdown",
   "metadata": {},
   "source": [
    "# Задача 1. Перевод байтов в мегабайты. Запрашиваем у пользователя, выводим на экран"
   ]
  },
  {
   "cell_type": "code",
   "execution_count": null,
   "metadata": {},
   "outputs": [],
   "source": [
    "bite_number = 2467\n",
    "megabites = bite_number / 1024\n",
    "print(megabites)"
   ]
  },
  {
   "cell_type": "code",
   "execution_count": null,
   "metadata": {},
   "outputs": [],
   "source": [
    "num = 54354\n",
    "print(num / 1024)"
   ]
  },
  {
   "cell_type": "code",
   "execution_count": null,
   "metadata": {},
   "outputs": [],
   "source": [
    "x = 1024\n",
    "x / 1048576"
   ]
  },
  {
   "cell_type": "code",
   "execution_count": 30,
   "metadata": {
    "scrolled": true
   },
   "outputs": [
    {
     "name": "stdout",
     "output_type": "stream",
     "text": [
      "3e-06\n"
     ]
    }
   ],
   "source": [
    "a = 3\n",
    "print(a * 1e-6)"
   ]
  },
  {
   "cell_type": "code",
   "execution_count": null,
   "metadata": {},
   "outputs": [],
   "source": [
    "bite_number = 2467\n",
    "megabites = bite_number / 2**20\n",
    "print(megabites)"
   ]
  },
  {
   "cell_type": "markdown",
   "metadata": {},
   "source": [
    "# Задача 2. Найти максимальное число среди представленных\n"
   ]
  },
  {
   "cell_type": "code",
   "execution_count": null,
   "metadata": {},
   "outputs": [],
   "source": [
    "number_1 = 10\n",
    "number_2 = 1\n",
    "number_3 = 2"
   ]
  },
  {
   "cell_type": "code",
   "execution_count": 34,
   "metadata": {},
   "outputs": [
    {
     "name": "stdout",
     "output_type": "stream",
     "text": [
      "3\n"
     ]
    }
   ],
   "source": [
    "a = 1\n",
    "b = 10\n",
    "c = 3\n",
    "if a>b>c: print(a)\n",
    "elif b>a>c: print(b)\n",
    "else: print(c)"
   ]
  },
  {
   "cell_type": "code",
   "execution_count": 37,
   "metadata": {},
   "outputs": [
    {
     "name": "stdout",
     "output_type": "stream",
     "text": [
      "25\n"
     ]
    }
   ],
   "source": []
  },
  {
   "cell_type": "code",
   "execution_count": 40,
   "metadata": {},
   "outputs": [
    {
     "name": "stdout",
     "output_type": "stream",
     "text": [
      "100\n"
     ]
    }
   ],
   "source": [
    "a = 10\n",
    "b = 11\n",
    "c = 25\n",
    "x = a if a > b else b if b > c else c if c > a else a\n",
    "print(x)\n",
    "\n",
    "print('--------------------------------------------')\n",
    "num1 = 100\n",
    "num2 = -10\n",
    "num3 = 15\n",
    "\n",
    "if num1 > num2 and num1 > num3:\n",
    "    print(num1)\n",
    "elif num2 > num1 and num2 > num3:\n",
    "    print(num2)\n",
    "else:\n",
    "    print(num3)\n",
    "print('--------------------------------------------')\n",
    "    \n",
    "number_1 = 5600\n",
    "number_2 = 5600\n",
    "number_3 = 200\n",
    "\n",
    "if number_1 > number_2:\n",
    "    if number_1 > number_3:\n",
    "        print(number_1)\n",
    "    else:\n",
    "        print(number_3)\n",
    "else:\n",
    "    if number_2 > number_3:\n",
    "        print(number_2)\n",
    "    else:\n",
    "        print(number_3)"
   ]
  },
  {
   "cell_type": "code",
   "execution_count": 51,
   "metadata": {},
   "outputs": [
    {
     "name": "stdout",
     "output_type": "stream",
     "text": [
      "5600\n"
     ]
    }
   ],
   "source": []
  },
  {
   "cell_type": "code",
   "execution_count": 50,
   "metadata": {},
   "outputs": [
    {
     "name": "stdout",
     "output_type": "stream",
     "text": [
      "Введите разные числа\n"
     ]
    }
   ],
   "source": [
    "n1 = 100\n",
    "n2 = 200\n",
    "n3 = 200\n",
    "\n",
    "if n1 > n2 and n1 > n3:\n",
    "    print(n1)\n",
    "if n2 > n1 and n2 > n3:\n",
    "    print(n2)\n",
    "if n3 > n2 and n3 > n1:\n",
    "    print(n3)\n",
    "else:\n",
    "    print('Введите разные числа')"
   ]
  },
  {
   "cell_type": "code",
   "execution_count": 49,
   "metadata": {},
   "outputs": [
    {
     "ename": "SyntaxError",
     "evalue": "invalid syntax (<ipython-input-49-40d964335553>, line 6)",
     "output_type": "error",
     "traceback": [
      "\u001b[1;36m  File \u001b[1;32m\"<ipython-input-49-40d964335553>\"\u001b[1;36m, line \u001b[1;32m6\u001b[0m\n\u001b[1;33m    else if d > a or d>c:\u001b[0m\n\u001b[1;37m          ^\u001b[0m\n\u001b[1;31mSyntaxError\u001b[0m\u001b[1;31m:\u001b[0m invalid syntax\n"
     ]
    }
   ],
   "source": [
    "a = 10\n",
    "d = 1\n",
    "c = 2\n",
    "if a > d or a > c:\n",
    "    print (a)\n",
    "elif d > a or d >c:\n",
    "    print (d)\n",
    "else if c > a or c > d:\n",
    "     print (c) "
   ]
  },
  {
   "cell_type": "code",
   "execution_count": 53,
   "metadata": {},
   "outputs": [
    {
     "name": "stdout",
     "output_type": "stream",
     "text": [
      "True\n",
      "False\n",
      "True\n",
      "False\n"
     ]
    }
   ],
   "source": [
    "print(True and True)\n",
    "print(True and False)\n",
    "\n",
    "print(True or False)\n",
    "print(False or False)\n",
    "\n",
    "\n",
    "\n"
   ]
  },
  {
   "cell_type": "code",
   "execution_count": 57,
   "metadata": {},
   "outputs": [
    {
     "name": "stdout",
     "output_type": "stream",
     "text": [
      "IV\n"
     ]
    }
   ],
   "source": [
    "x = -5\n",
    "y = -3\n",
    "\n",
    "if x > 0 and y > 0:\n",
    "    print('I')\n",
    "elif x > 0 and y < 0:\n",
    "    print('II')\n",
    "elif x < 0 and y < 0:\n",
    "    print('IV')\n",
    "else:\n",
    "    print('III')"
   ]
  },
  {
   "cell_type": "code",
   "execution_count": 58,
   "metadata": {},
   "outputs": [
    {
     "name": "stdout",
     "output_type": "stream",
     "text": [
      "Q1\n"
     ]
    }
   ],
   "source": [
    "x = 1\n",
    "y = 2\n",
    "if x > 0 and y > 0:\n",
    "    print('Q1')\n",
    "elif x>0 and y<0:\n",
    "    print('Q4')\n",
    "elif x<0 and y>0:\n",
    "    print('Q2')\n",
    "elif x<0 and y<0:\n",
    "    print('Q3')\n",
    "else:\n",
    "    print('0:0')"
   ]
  },
  {
   "cell_type": "code",
   "execution_count": 59,
   "metadata": {},
   "outputs": [
    {
     "name": "stdout",
     "output_type": "stream",
     "text": [
      "II\n"
     ]
    }
   ],
   "source": [
    "x = -10\n",
    "y = 10\n",
    "if x > 0 and y > 0:\n",
    "    print('I')\n",
    "elif x > 0 and y < 0:\n",
    "    print('IV')\n",
    "elif x < 0 and y > 0:\n",
    "    print('II')\n",
    "else:\n",
    "    print('III')"
   ]
  },
  {
   "cell_type": "code",
   "execution_count": null,
   "metadata": {},
   "outputs": [],
   "source": [
    "x = -1\n",
    "y = -1\n",
    "if y > 0 and x> 0:\n",
    "    print ('I')\n",
    "elif y>0 and x<0:\n",
    "    print ('II')\n",
    "elif y < 0 and x < 0:\n",
    "    print ('III')\n",
    "elif y < 0 and x > 0:\n",
    "    print('IV')"
   ]
  },
  {
   "cell_type": "code",
   "execution_count": null,
   "metadata": {},
   "outputs": [],
   "source": [
    "x = 1\n",
    "y = 2\n",
    "if x >= 1 and y>=1: \n",
    "    print('1')\n",
    "elif x<1 and y>=1: \n",
    "    print('2')\n",
    "elif x<1 and y<0: \n",
    "    print('3')\n",
    "elif x>1 and y<0: \n",
    "    print('4')\n",
    "else: \n",
    "    print('ось')"
   ]
  },
  {
   "cell_type": "code",
   "execution_count": null,
   "metadata": {},
   "outputs": [],
   "source": [
    "x = 3\n",
    "y = 5\n",
    "if x > 0 and y > 0:\n",
    "     print('I')\n",
    "elif x < 0 and y < 0:\n",
    "    print('IV')\n",
    "    \n",
    "elif x > 0 and y < 0:\n",
    "    print('II')\n",
    "elif x < 0 and y > 0:\n",
    "    print('III')\n",
    "else:\n",
    "    print('on exe')"
   ]
  },
  {
   "cell_type": "code",
   "execution_count": 62,
   "metadata": {},
   "outputs": [
    {
     "name": "stdout",
     "output_type": "stream",
     "text": [
      "0.0023527145385742188\n"
     ]
    }
   ],
   "source": [
    "bute_number = 2467\n",
    "megabutes = bute_number / 2 ** 20\n",
    "print(megabutes)"
   ]
  },
  {
   "cell_type": "code",
   "execution_count": null,
   "metadata": {},
   "outputs": [],
   "source": []
  }
 ],
 "metadata": {
  "kernelspec": {
   "display_name": "Python 3",
   "language": "python",
   "name": "python3"
  },
  "language_info": {
   "codemirror_mode": {
    "name": "ipython",
    "version": 3
   },
   "file_extension": ".py",
   "mimetype": "text/x-python",
   "name": "python",
   "nbconvert_exporter": "python",
   "pygments_lexer": "ipython3",
   "version": "3.8.3"
  }
 },
 "nbformat": 4,
 "nbformat_minor": 4
}
