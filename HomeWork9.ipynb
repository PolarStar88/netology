{
 "cells": [
  {
   "cell_type": "markdown",
   "metadata": {},
   "source": [
    "### Задание 1"
   ]
  },
  {
   "cell_type": "markdown",
   "metadata": {},
   "source": [
    "Напишите функцию, которая принимает на вход строку и проверяет является ли она валидным транспортным номером (1 буква, 3 цифры, 2 буквы, 2-3 цифры). Обратите внимание, что не все буквы кириллического алфавита используются в транспортных номерах.\n",
    "\n",
    "Если номер валиден, то функция должна возвращать отдельно номер и регион.\n",
    "\n",
    "Примеры работы программы:\n",
    "\n",
    " - car_id = 'A222BC96'\n",
    "\n",
    "Результат: Номер A222BС валиден. Регион: 96\n",
    "\n",
    " - car_id = 'АБ22ВВ193'\n",
    "\n",
    "Результат: Номер не валиден"
   ]
  },
  {
   "cell_type": "code",
   "execution_count": 1,
   "metadata": {},
   "outputs": [],
   "source": [
    "# импортируем модуль для работы с регулярными выражениями\n",
    "import re"
   ]
  },
  {
   "cell_type": "code",
   "execution_count": 2,
   "metadata": {},
   "outputs": [],
   "source": [
    "car_id = 'A222BC96'\n",
    "# car_id = 'АБ22ВВ193'"
   ]
  },
  {
   "cell_type": "code",
   "execution_count": 7,
   "metadata": {},
   "outputs": [
    {
     "name": "stdout",
     "output_type": "stream",
     "text": [
      "Номер A222BC валиден. Регион равен 96\n"
     ]
    }
   ],
   "source": [
    "def valid_number(car):\n",
    "    \n",
    "    \"\"\"Функция для проверки валидности транспортного номера\"\"\"\n",
    "    \n",
    "    # с помощью регулярных выражений зададим шаблон\n",
    "    car_id_num = r'([A-Я]{1}\\d{3}[A-Я]{2})(\\d{2,3})'\n",
    "    \n",
    "    # с помощью функции findall ищем все совпадения согласно заданного шаблона в строке car_id\n",
    "    if re.findall(car_id_num, car_id):\n",
    "        # с помощью функций search и group извлекаем подгруппы с нужной информацией\n",
    "        print(f'Номер {re.search(car_id_num, car_id).group(1)} валиден. '\n",
    "              f'Регион равен {re.search(car_id_num, car_id).group(2)}')\n",
    "    else:\n",
    "        print(f'Номер не валиден')\n",
    "        \n",
    "valid_number(car_id)"
   ]
  },
  {
   "cell_type": "markdown",
   "metadata": {},
   "source": [
    "### Задание 2"
   ]
  },
  {
   "cell_type": "markdown",
   "metadata": {},
   "source": [
    "Напишите функцию, которая будет удалять все последовательные повторы слов из заданной строки при помощи регулярных выражений.\n",
    "\n",
    "Пример работы программы:\n",
    "\n",
    "some_string = 'Напишите функцию функцию, которая будет будет будет будет удалять все все все все последовательные повторы слов из из из из заданной строки строки при помощи регулярных выражений'\n",
    "\n",
    "Результат: Напишите функцию, которая будет удалять все последовательные повторы слов из заданной строки при помощи регулярных выражений."
   ]
  },
  {
   "cell_type": "code",
   "execution_count": 5,
   "metadata": {},
   "outputs": [],
   "source": [
    "some_string = 'Напишите функцию функцию, которая будет будет будет будет удалять все все все все последовательные повторы слов из из из из заданной строки строки при помощи регулярных выражений'"
   ]
  },
  {
   "cell_type": "code",
   "execution_count": 6,
   "metadata": {},
   "outputs": [
    {
     "data": {
      "text/plain": [
       "'Напишите функцию, которая будет удалять все последовательные повторы слов из заданной строки при помощи регулярных выражений'"
      ]
     },
     "execution_count": 6,
     "metadata": {},
     "output_type": "execute_result"
    }
   ],
   "source": [
    "def del_duplicated_words(some_string):\n",
    "    \n",
    "    \"\"\"Функция удаления всех последовательных повторов слов\"\"\"\n",
    "    \n",
    "    # с помощью функции sub ищем шаблон в строке и заменяем на указанную подстроку (на 1 скобочную группу)\n",
    "    return re.sub(r'(\\w+)(\\s\\1)+', r'\\1', some_string)\n",
    "\n",
    "del_duplicated_words(some_string)"
   ]
  },
  {
   "cell_type": "markdown",
   "metadata": {},
   "source": [
    "### Задание 3"
   ]
  },
  {
   "cell_type": "markdown",
   "metadata": {},
   "source": [
    "Напишите функцию, которая будет возвращать акроним по переданной в нее строке со словами.\n",
    "\n",
    "Примеры работы программы:\n",
    "\n",
    " - some_words = 'Информационные технологии'\n",
    "\n",
    "Результат: ИТ\n",
    "\n",
    " - some_words = 'Near Field Communication'\n",
    "\n",
    "Результат: NFC"
   ]
  },
  {
   "cell_type": "code",
   "execution_count": 8,
   "metadata": {},
   "outputs": [
    {
     "data": {
      "text/plain": [
       "'NFC'"
      ]
     },
     "execution_count": 8,
     "metadata": {},
     "output_type": "execute_result"
    }
   ],
   "source": [
    "# some_words = 'Информационные технологии'\n",
    "some_words = 'Near Field Communication'\n",
    "\n",
    "def acronim(some_words):\n",
    "    \n",
    "    \"\"\"Функция возвращения акроним\"\"\"\n",
    "    \n",
    "    # с помощью функций sub и upper заменяем все слова на первые буквы и приводим их к верхнему регистру\n",
    "    return re.sub(r'(\\w)(\\w+)(\\s|$)', r'\\1', some_words).upper()\n",
    "\n",
    "acronim(some_words)"
   ]
  },
  {
   "cell_type": "markdown",
   "metadata": {},
   "source": [
    "### Задание 4"
   ]
  },
  {
   "cell_type": "markdown",
   "metadata": {},
   "source": [
    "Напишите функцию, которая будет принимать на вход список email-адресов и выводить их распределение по доменным зонам.\n",
    "\n",
    "Пример работы программы:\n",
    "\n",
    "emails = ['test@gmail.com', 'xyz@test.in', 'test@ya.ru', 'xyz@mail.ru', 'xyz@ya.ru', 'xyz@gmail.com']\n",
    "\n",
    "Результат:\n",
    "\n",
    "     gmail.com: 2\n",
    "     test.in: 1 \n",
    "     ya.ru: 2 \n",
    "     mail.ru: 1"
   ]
  },
  {
   "cell_type": "code",
   "execution_count": 9,
   "metadata": {},
   "outputs": [],
   "source": [
    "emails = ['test@gmail.com', 'xyz@test.in', 'test@ya.ru', 'xyz@mail.ru', 'xyz@ya.ru', 'xyz@gmail.com']"
   ]
  },
  {
   "cell_type": "code",
   "execution_count": 10,
   "metadata": {},
   "outputs": [
    {
     "name": "stdout",
     "output_type": "stream",
     "text": [
      "gmail.com: 2 \n",
      "test.in: 1 \n",
      "ya.ru: 2 \n",
      "mail.ru: 1 \n"
     ]
    }
   ],
   "source": [
    "def domen_mail(emails):\n",
    "    \n",
    "    \"\"\"Функция принимает на вход список email-адресов и выводит их распределение по доменным зонам\"\"\"\n",
    "    \n",
    "    # создадим пустой словарь, куда будем складывать домены и их количество\n",
    "    domens={}\n",
    "    \n",
    "    for email in emails:\n",
    "        \n",
    "        # задаем параметр domen - оставляем от email-адреса только домен\n",
    "        domen=re.sub(r'(\\S+@)(\\S+\\.\\w+)', r'\\2', email)\n",
    "        \n",
    "        # если в словаре нет такого домена, добавляем и присваиваем значение 1\n",
    "        if domen not in domens:\n",
    "            domens[domen]=1\n",
    "        # если домен есть, накручиваем значение на 1\n",
    "        else:\n",
    "            domens[domen]+=1\n",
    "    \n",
    "    # выводим результат в нужном виде\n",
    "    for key, value in domens.items():\n",
    "        print(f'{key}: {value} ')\n",
    "    \n",
    "domen_mail(emails)"
   ]
  }
 ],
 "metadata": {
  "kernelspec": {
   "display_name": "Python 3",
   "language": "python",
   "name": "python3"
  },
  "language_info": {
   "codemirror_mode": {
    "name": "ipython",
    "version": 3
   },
   "file_extension": ".py",
   "mimetype": "text/x-python",
   "name": "python",
   "nbconvert_exporter": "python",
   "pygments_lexer": "ipython3",
   "version": "3.8.3"
  }
 },
 "nbformat": 4,
 "nbformat_minor": 4
}
